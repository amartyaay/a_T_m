{
  "nbformat": 4,
  "nbformat_minor": 0,
  "metadata": {
    "colab": {
      "provenance": [],
      "authorship_tag": "ABX9TyNyxAT3lFh9adzd60Ia+4xW",
      "include_colab_link": true
    },
    "kernelspec": {
      "name": "python3",
      "display_name": "Python 3"
    },
    "language_info": {
      "name": "python"
    }
  },
  "cells": [
    {
      "cell_type": "markdown",
      "metadata": {
        "id": "view-in-github",
        "colab_type": "text"
      },
      "source": [
        "<a href=\"https://colab.research.google.com/github/amartyaay/a_T_m/blob/main/playstorescrapper.ipynb\" target=\"_parent\"><img src=\"https://colab.research.google.com/assets/colab-badge.svg\" alt=\"Open In Colab\"/></a>"
      ]
    },
    {
      "cell_type": "code",
      "execution_count": null,
      "metadata": {
        "colab": {
          "base_uri": "https://localhost:8080/"
        },
        "id": "rzrhmobgGV7H",
        "outputId": "57541b3d-4bd7-4459-f410-2e1e5106fd28"
      },
      "outputs": [
        {
          "output_type": "stream",
          "name": "stdout",
          "text": [
            "Requirement already satisfied: google-play-scraper in /usr/local/lib/python3.10/dist-packages (1.2.6)\n"
          ]
        }
      ],
      "source": [
        "pip install google-play-scraper"
      ]
    },
    {
      "cell_type": "code",
      "source": [
        "print('''How to get App ID\n",
        "Open Playstore and go to app\n",
        "Get Playstore URL\n",
        "It Will look something like this\\n\n",
        "https://play.google.com/store/apps/details?id=co.tslc.cashe.android&hl=en_IN&gl=US\\n\n",
        "Here, this part is ID -> co.tslc.cashe.android \\n\n",
        "From 'id=' to '&'\n",
        "''')\n",
        "app_id=input('Enter App ID - ')\n",
        "no_of_reviews=int(input('Enter Number of Reviews - '))"
      ],
      "metadata": {
        "colab": {
          "base_uri": "https://localhost:8080/",
          "height": 530
        },
        "id": "wI3woxIT4iF7",
        "outputId": "61cff427-b3df-4168-a008-b3f9ebb38583"
      },
      "execution_count": null,
      "outputs": [
        {
          "output_type": "stream",
          "name": "stdout",
          "text": [
            "How to get App ID\n",
            "Open Playstore and go to app\n",
            "Get Playstore URL\n",
            "It Will look something like this\n",
            "\n",
            "https://play.google.com/store/apps/details?id=co.tslc.cashe.android&hl=en_IN&gl=US\n",
            "\n",
            "Here, this part is ID -> co.tslc.cashe.android \n",
            "\n",
            "From 'id=' to '&'\n",
            "\n"
          ]
        },
        {
          "output_type": "error",
          "ename": "KeyboardInterrupt",
          "evalue": "Interrupted by user",
          "traceback": [
            "\u001b[0;31m---------------------------------------------------------------------------\u001b[0m",
            "\u001b[0;31mKeyboardInterrupt\u001b[0m                         Traceback (most recent call last)",
            "\u001b[0;32m<ipython-input-17-11b1f24e79ba>\u001b[0m in \u001b[0;36m<cell line: 9>\u001b[0;34m()\u001b[0m\n\u001b[1;32m      7\u001b[0m \u001b[0mFrom\u001b[0m \u001b[0;34m'id='\u001b[0m \u001b[0mto\u001b[0m \u001b[0;34m'&'\u001b[0m\u001b[0;34m\u001b[0m\u001b[0;34m\u001b[0m\u001b[0m\n\u001b[1;32m      8\u001b[0m ''')\n\u001b[0;32m----> 9\u001b[0;31m \u001b[0mapp_id\u001b[0m\u001b[0;34m=\u001b[0m\u001b[0minput\u001b[0m\u001b[0;34m(\u001b[0m\u001b[0;34m'Enter App ID - '\u001b[0m\u001b[0;34m)\u001b[0m\u001b[0;34m\u001b[0m\u001b[0;34m\u001b[0m\u001b[0m\n\u001b[0m\u001b[1;32m     10\u001b[0m \u001b[0mno_of_reviews\u001b[0m\u001b[0;34m=\u001b[0m\u001b[0mint\u001b[0m\u001b[0;34m(\u001b[0m\u001b[0minput\u001b[0m\u001b[0;34m(\u001b[0m\u001b[0;34m'Enter Number of Reviews - '\u001b[0m\u001b[0;34m)\u001b[0m\u001b[0;34m)\u001b[0m\u001b[0;34m\u001b[0m\u001b[0;34m\u001b[0m\u001b[0m\n",
            "\u001b[0;32m/usr/local/lib/python3.10/dist-packages/ipykernel/kernelbase.py\u001b[0m in \u001b[0;36mraw_input\u001b[0;34m(self, prompt)\u001b[0m\n\u001b[1;32m    849\u001b[0m                 \u001b[0;34m\"raw_input was called, but this frontend does not support input requests.\"\u001b[0m\u001b[0;34m\u001b[0m\u001b[0;34m\u001b[0m\u001b[0m\n\u001b[1;32m    850\u001b[0m             )\n\u001b[0;32m--> 851\u001b[0;31m         return self._input_request(str(prompt),\n\u001b[0m\u001b[1;32m    852\u001b[0m             \u001b[0mself\u001b[0m\u001b[0;34m.\u001b[0m\u001b[0m_parent_ident\u001b[0m\u001b[0;34m,\u001b[0m\u001b[0;34m\u001b[0m\u001b[0;34m\u001b[0m\u001b[0m\n\u001b[1;32m    853\u001b[0m             \u001b[0mself\u001b[0m\u001b[0;34m.\u001b[0m\u001b[0m_parent_header\u001b[0m\u001b[0;34m,\u001b[0m\u001b[0;34m\u001b[0m\u001b[0;34m\u001b[0m\u001b[0m\n",
            "\u001b[0;32m/usr/local/lib/python3.10/dist-packages/ipykernel/kernelbase.py\u001b[0m in \u001b[0;36m_input_request\u001b[0;34m(self, prompt, ident, parent, password)\u001b[0m\n\u001b[1;32m    893\u001b[0m             \u001b[0;32mexcept\u001b[0m \u001b[0mKeyboardInterrupt\u001b[0m\u001b[0;34m:\u001b[0m\u001b[0;34m\u001b[0m\u001b[0;34m\u001b[0m\u001b[0m\n\u001b[1;32m    894\u001b[0m                 \u001b[0;31m# re-raise KeyboardInterrupt, to truncate traceback\u001b[0m\u001b[0;34m\u001b[0m\u001b[0;34m\u001b[0m\u001b[0m\n\u001b[0;32m--> 895\u001b[0;31m                 \u001b[0;32mraise\u001b[0m \u001b[0mKeyboardInterrupt\u001b[0m\u001b[0;34m(\u001b[0m\u001b[0;34m\"Interrupted by user\"\u001b[0m\u001b[0;34m)\u001b[0m \u001b[0;32mfrom\u001b[0m \u001b[0;32mNone\u001b[0m\u001b[0;34m\u001b[0m\u001b[0;34m\u001b[0m\u001b[0m\n\u001b[0m\u001b[1;32m    896\u001b[0m             \u001b[0;32mexcept\u001b[0m \u001b[0mException\u001b[0m \u001b[0;32mas\u001b[0m \u001b[0me\u001b[0m\u001b[0;34m:\u001b[0m\u001b[0;34m\u001b[0m\u001b[0;34m\u001b[0m\u001b[0m\n\u001b[1;32m    897\u001b[0m                 \u001b[0mself\u001b[0m\u001b[0;34m.\u001b[0m\u001b[0mlog\u001b[0m\u001b[0;34m.\u001b[0m\u001b[0mwarning\u001b[0m\u001b[0;34m(\u001b[0m\u001b[0;34m\"Invalid Message:\"\u001b[0m\u001b[0;34m,\u001b[0m \u001b[0mexc_info\u001b[0m\u001b[0;34m=\u001b[0m\u001b[0;32mTrue\u001b[0m\u001b[0;34m)\u001b[0m\u001b[0;34m\u001b[0m\u001b[0;34m\u001b[0m\u001b[0m\n",
            "\u001b[0;31mKeyboardInterrupt\u001b[0m: Interrupted by user"
          ]
        }
      ]
    },
    {
      "cell_type": "code",
      "source": [
        "from google_play_scraper import app\n",
        "import pandas as pd\n",
        "import numpy as np\n",
        "\n",
        "app_description = app(\n",
        "    app_id,\n",
        "    lang='en', # defaults to 'en'\n",
        "    country='in' # defaults to 'us'\n",
        ")\n",
        "print(app_description)"
      ],
      "metadata": {
        "colab": {
          "base_uri": "https://localhost:8080/"
        },
        "id": "jfSOiUsSGf7z",
        "outputId": "e9a41b31-1777-4e90-d233-18a782770cd6"
      },
      "execution_count": null,
      "outputs": [
        {
          "output_type": "stream",
          "name": "stdout",
          "text": [
            "{'title': 'CASHe: Bharat Ka Money App', 'description': 'CASHe is your one-stop solution for all things money, where you can borrow, invest, and insure, all under one app. Here, you can avail instant personal loans of up to ₹4,00,000, get a credit line of up to ₹2,00,000, and opt for the Buy Now Pay Later (BNPL) credit facility to shop for your favourite products online. You can also invest and grow your money with P2P loans, digital gold, SIPs, and fixed deposits (FD). \\r\\nWith CASHe, investing, borrowing, and insuring is now an easy and hassle-free experience. So, download the CASHe app now.\\r\\n\\r\\n<b>Features of CASHe- Bharat ka Money App:</b>\\r\\n✔️ Quick personal loans ranging from ₹1,000 - ₹4,00,000 \\t\\r\\n✔️ No guarantors/collaterals\\r\\n✔️ 100% paperless\\r\\n✔️ Flexible repayment period\\r\\n✔️ 0 foreclosure charges\\r\\n✔️ Instant disbursal of the instant loan amount to your bank account\\r\\n✔️ Repay the loan through various payment methods\\r\\n✔️ Enjoy online shopping at no cost EMI with an instant credit line\\r\\n✔️ Invest in 13Karat’s high-return P2P lending options\\r\\n✔️ Invest in digital gold, mutual funds, and FDs with Sqrrl\\r\\n\\r\\n<b>CASHe Products:</b>\\r\\n<b>💰 Instant Personal Loan</b>\\r\\nGet an instant personal loan from the CASHe easy loan app to take care of your needs! Choose from various types of quick personal loans like car loans, home renovation loans, education loans, marriage loans, etc. with a tenure ranging from 3 months to 1.5 years.\\r\\n💸<b> CASHe Credit Line</b>\\r\\nApply for a credit line on the CASHe app with minimal documentation and instant approval for a tenure of 1 year, and avail short-term loans for your emergency and shopping needs.\\r\\n💵 <b>Buy Now Pay Later with CASHe</b>\\r\\nGet 0%* interest instant online shopping loans on the CASHe app. You can avail these BNPL loans to make purchases on leading online platforms and repay them later with easy EMIs.\\r\\n💰 <b>Earn a Passive Income with 13Karat’s P2P Investments</b>\\r\\nInvest in 13Karat’s Peer-to-Peer (P2P) lending and earn high returns of up to 13%. P2P investments are a secure alternative to traditional fixed-income investment options and generate industry-leading returns.\\r\\n💸 <b>Let Your Money Grow with Sqrrl</b>\\r\\nInvest your hard-earned money in various investment options like digital gold, mutual funds (lumpsum and SIP), and FDs. You can also start investing your small savings with Sqrrl’s round-up investment option- Sqrrl Away.\\r\\n\\r\\n<b>Personal Loan Eligibility:</b>\\r\\n✔️Salaried professionals above 21 years of age.\\r\\n✔️ Minimum net monthly salary => ₹15,000.\\r\\n✔️ Salary must be credited through direct bank transfer only.\\r\\n✔️ Valid documents- PAN card, identity and address proofs, 3-month bank statement showing salary credited\\r\\n\\r\\n<b>Personal Loan Interest Rate, Tenures, and Fees</b>\\r\\n➡️ Annual Percentage Rate (APR) – 30.42% to 44.52%\\r\\n➡️ Repayment Tenure: 3 to 18 months\\r\\n➡️ Processing fee: 5.5% - 6.5%*\\r\\n\\r\\n<b>Sample Loan Calculation</b>\\r\\nLoan amount: ₹30,000 at fixed interest rate of 30.42% p.a.(equivalent reducing interest rate of 44.52%)\\r\\nLoan duration: 3 Months\\r\\nTotal personal loan interest = ₹2,250\\r\\nProcessing fees (PF) + GST = ₹750 + ₹300 + ₹300 + ₹150 + ₹150 + ₹297 = ₹1947\\r\\nTotal deductibles (PF + GST): ₹1947\\r\\nIn-hand amount (Loan amount - Total deductibles) = ₹30,000 - ₹1947 = ₹28,053\\r\\nTotal repayable amount (Loan amount + interest): ₹32,250\\r\\nMonthly EMI repayable (Loan amount + interest / No of EMI’s): ₹10,750\\r\\n(Note: PF and GST are deducted upfront during the loan disbursal.)\\r\\n\\r\\n<b>Partner NBFCs/Banks</b>\\r\\n➡️ Bhanix Finance and Investment Ltd.\\r\\n➡️ Vivriti Capital Private Ltd.\\r\\n➡️ Northern Arc Capital Ltd.\\r\\n\\r\\n🔒<b> Data Security via Secure Loan Application</b>\\r\\nCASHe is committed to promoting best practices in digital lending and adheres to RBI’s Fair Practice Code. All CASHe transactions are secured via 128-bit SSL encryption.\\r\\nOver 40 million Indians have stepped up their financial game with CASHe. Join them and download the CASHe- Bharat ka Money App now to take care of all your money needs!\\r\\n\\r\\n📧 <b>Contact Us:</b>\\r\\nReach out to us at support@cashe.co.in.', 'descriptionHTML': 'CASHe is your one-stop solution for all things money, where you can borrow, invest, and insure, all under one app. Here, you can avail instant personal loans of up to ₹4,00,000, get a credit line of up to ₹2,00,000, and opt for the Buy Now Pay Later (BNPL) credit facility to shop for your favourite products online. You can also invest and grow your money with P2P loans, digital gold, SIPs, and fixed deposits (FD). <br>With CASHe, investing, borrowing, and insuring is now an easy and hassle-free experience. So, download the CASHe app now.<br><br><b>Features of CASHe- Bharat ka Money App:</b><br>✔️ Quick personal loans ranging from ₹1,000 - ₹4,00,000 \\t<br>✔️ No guarantors/collaterals<br>✔️ 100% paperless<br>✔️ Flexible repayment period<br>✔️ 0 foreclosure charges<br>✔️ Instant disbursal of the instant loan amount to your bank account<br>✔️ Repay the loan through various payment methods<br>✔️ Enjoy online shopping at no cost EMI with an instant credit line<br>✔️ Invest in 13Karat’s high-return P2P lending options<br>✔️ Invest in digital gold, mutual funds, and FDs with Sqrrl<br><br><b>CASHe Products:</b><br><b>💰 Instant Personal Loan</b><br>Get an instant personal loan from the CASHe easy loan app to take care of your needs! Choose from various types of quick personal loans like car loans, home renovation loans, education loans, marriage loans, etc. with a tenure ranging from 3 months to 1.5 years.<br>💸<b> CASHe Credit Line</b><br>Apply for a credit line on the CASHe app with minimal documentation and instant approval for a tenure of 1 year, and avail short-term loans for your emergency and shopping needs.<br>💵 <b>Buy Now Pay Later with CASHe</b><br>Get 0%* interest instant online shopping loans on the CASHe app. You can avail these BNPL loans to make purchases on leading online platforms and repay them later with easy EMIs.<br>💰 <b>Earn a Passive Income with 13Karat’s P2P Investments</b><br>Invest in 13Karat’s Peer-to-Peer (P2P) lending and earn high returns of up to 13%. P2P investments are a secure alternative to traditional fixed-income investment options and generate industry-leading returns.<br>💸 <b>Let Your Money Grow with Sqrrl</b><br>Invest your hard-earned money in various investment options like digital gold, mutual funds (lumpsum and SIP), and FDs. You can also start investing your small savings with Sqrrl’s round-up investment option- Sqrrl Away.<br><br><b>Personal Loan Eligibility:</b><br>✔️Salaried professionals above 21 years of age.<br>✔️ Minimum net monthly salary =&gt; ₹15,000.<br>✔️ Salary must be credited through direct bank transfer only.<br>✔️ Valid documents- PAN card, identity and address proofs, 3-month bank statement showing salary credited<br><br><b>Personal Loan Interest Rate, Tenures, and Fees</b><br>➡️ Annual Percentage Rate (APR) – 30.42% to 44.52%<br>➡️ Repayment Tenure: 3 to 18 months<br>➡️ Processing fee: 5.5% - 6.5%*<br><br><b>Sample Loan Calculation</b><br>Loan amount: ₹30,000 at fixed interest rate of 30.42% p.a.(equivalent reducing interest rate of 44.52%)<br>Loan duration: 3 Months<br>Total personal loan interest = ₹2,250<br>Processing fees (PF) + GST = ₹750 + ₹300 + ₹300 + ₹150 + ₹150 + ₹297 = ₹1947<br>Total deductibles (PF + GST): ₹1947<br>In-hand amount (Loan amount - Total deductibles) = ₹30,000 - ₹1947 = ₹28,053<br>Total repayable amount (Loan amount + interest): ₹32,250<br>Monthly EMI repayable (Loan amount + interest / No of EMI’s): ₹10,750<br>(Note: PF and GST are deducted upfront during the loan disbursal.)<br><br><b>Partner NBFCs/Banks</b><br>➡️ Bhanix Finance and Investment Ltd.<br>➡️ Vivriti Capital Private Ltd.<br>➡️ Northern Arc Capital Ltd.<br><br>🔒<b> Data Security via Secure Loan Application</b><br>CASHe is committed to promoting best practices in digital lending and adheres to RBI’s Fair Practice Code. All CASHe transactions are secured via 128-bit SSL encryption.<br>Over 40 million Indians have stepped up their financial game with CASHe. Join them and download the CASHe- Bharat ka Money App now to take care of all your money needs!<br><br>📧 <b>Contact Us:</b><br>Reach out to us at support@cashe.co.in.', 'summary': 'Get instant personal loans & invest in digital gold & P2P Lending with CASHe', 'installs': '10,000,000+', 'minInstalls': 10000000, 'realInstalls': 15593222, 'score': 3.27272, 'ratings': 256876, 'reviews': 130153, 'histogram': [98105, 7047, 7027, 16076, 128617], 'price': 0, 'free': True, 'currency': 'INR', 'sale': False, 'saleTime': None, 'originalPrice': None, 'saleText': None, 'offersIAP': False, 'inAppProductPrice': None, 'developer': 'CASHe', 'developerId': 'CASHe', 'developerEmail': 'support@cashe.co.in', 'developerWebsite': 'https://www.cashe.co.in', 'developerAddress': None, 'privacyPolicy': 'https://info.cashe.co.in/privacy-policy.html', 'genre': 'Finance', 'genreId': 'FINANCE', 'categories': [{'name': 'Finance', 'id': 'FINANCE'}], 'icon': 'https://play-lh.googleusercontent.com/mimdIR411OJQ6bzZkTeX2mPG6CqK7UdH-nneUCAjoaaOcDbcrIRqyS8IAHuO0Qswl94', 'headerImage': 'https://play-lh.googleusercontent.com/48DBj_SWf0VdpjEUqHXOt8qo8W2i0LO1FI-0Z7XUG-eU3A-Fn0g9lXgRPKXov6feGjM', 'screenshots': ['https://play-lh.googleusercontent.com/lLZFPdP28o1MH-KMQu2PzHS1UdpPfw5VhekapsisGHF-J14J7OFkC5-H__PHm4_gqw', 'https://play-lh.googleusercontent.com/Gf1Z9ukkD85aomBW9vWNR4U6Ag-MLcFbvDI6q0nfW5mIPlEeQz8TtaAIfLiiFKxY5FM', 'https://play-lh.googleusercontent.com/gneqOen_o2RnyYc40tAYCqyoDUb2GrCRoF0v6-y1EUwK8EHPUtiq--02fBHbaWRjbA', 'https://play-lh.googleusercontent.com/eQOIYxgHCKLgMtxVxDBOBnLEWo24aMcU6hMPllaMY3L6a2iB0CezKP2SO3Zpx2LxEpA', 'https://play-lh.googleusercontent.com/-N-6qIWZ_TDp9T5b9lZOBxZfV21XD8QD2_mbLJq2b0RkI5XivkuLLu7ExQ9UDpn2ITo', 'https://play-lh.googleusercontent.com/Bz85QH4evWeCP9RWDgztjQwXL4Rih4R0p-xVDB6oSMU7cHl55kfCW_5Z4qErmxJcmw', 'https://play-lh.googleusercontent.com/bLFrAeQUa2VOPv8NVTDh5wWZl3ftS_RtXhuAldFKXny0hrXIvpUNDaWDGIUyoR_61Q', 'https://play-lh.googleusercontent.com/VifnJ1rZdn4S01TnLJUrY5Mt5SFXuYCTNNm_OIcBZhM52wllcW7-Ci3gL3Qc31GgMA'], 'video': 'https://www.youtube.com/embed/ZRHBz1xn8NU?ps=play&vq=large&rel=0&autohide=1&showinfo=0', 'videoImage': 'https://play-lh.googleusercontent.com/48DBj_SWf0VdpjEUqHXOt8qo8W2i0LO1FI-0Z7XUG-eU3A-Fn0g9lXgRPKXov6feGjM', 'contentRating': 'Rated for 3+', 'contentRatingDescription': None, 'adSupported': False, 'containsAds': False, 'released': 'Feb 25, 2016', 'lastUpdatedOn': 'Feb 21, 2024', 'updated': 1708519651, 'version': '9.0.5', 'comments': [\"I have applied for loan and it got approved. It's been more than a week and still the amount is not credited. I have completed enach and everything. To check the issues there s no proper ph support. Even after raising tickets through app and sending multiple emails, there is no proper response. Every time there is a generic statement sent by them and they will close the ticket. Never had such a worst experience before. also from past 4days even the app is not working(unable to login)\", \"I have applied for loan and it got approved. It's been more than a week and still the amount is not credited. I have completed enach and everything. To check the issues there is no proper ph support. Even after raising tickets through app and sending multiple emails, there is no proper response. Every time there is a generic statement sent by them and they will close the ticket. Never had such a worst experience before. also from past 2days even the app is not working(unable to login)\", \"I've applied for a credit line and it got approved. I've paid 3 EMIs and the loan was closed. When I tried to take the same credit line again it's showing me that loan is processing. it's been a month, almost 30+ days and still the status is showing as loan is under process. We can't cancel it or the amount will not credit. Stuck In the middle.\", \"It's a scam guys don't trust the app... They do the e- mandate and do not disburse the amount. But in the app it will show as processing. It's been more than 2 weeks and have not got funds not they are canceling it. I have written several mails but they don't respond. Also they don't have any calling number. Just beware of the fake app. You will never get the loan.\", \"Worst app I've ever used. They don't have money to disburse but still they approve your loan and you have to wait till the funds are available then they will pay and even if you raise the ticket multiple times. They are neither going to listen nor respond. Just an automated email, that's all. Alas, the worst experience would have been if I couldn't apply. Now I am stuck because I have no option to cancel.\", \"Definitely Looks Like A SCAM!!! My loan agreement was signed and the eNach mandate received 10 days ago. I have raised multiple tickets to no avail. The repayment date and amount has started reflecting on the app but the amount has not been disbursed even now. When I raised the first ticket it was closed without being resolved and it was just an automated email to begin with. I HAVE RAISED A SECOND QUERY TODAY, LET'S SEE IF THAT GETS A RESPONSE.\", \"It's a scam, They gave the credit line, when applied for loan, it shows up processing, it has been more than a week now. For sure it's not an instant loan app. Let's see if money ever hits my bank. Total waste of time and got a whatsApp notification if I want to cancel the loan even though I selected Yes on it the loan is still in processing from 8 days. No proper customer service call gets automatically disconnected post waiting all the IVR script.\", 'This app seems to be like a scam. They gave the credit line, when applied for loan, it shows up processing, it has been more than 24 hours. For sure it\\'s not an instant loan app. Let\\'s see if money ever hits my bank. No customer care number. Total waste of time. Now on 2/7/2024, got a whatsApp notification if I want to cancel the loan application. Selected \"cancel\". In app it still appears to be in process. Credit limit that was deducted has not been restored yet. No proper customer service.', \"Am using this app for past many months. This is the first time I'm facing something like this. Now it's showing the credit lines and I have applied for it, signing everything is done but still it's showing status as processing. Amount not disbursed. When I raised ticket it's automatically getting closed without solving the issue. I have raised for three times. 2 are closed without Even taking nesscary actions. One is still open from February 10th and haven't received any confirmations regarding\", \"Worst experience from this app. I have applied for the loan on 4th Feb 24. Still it is showing as processing as it's already completed 6 days. I have mailed them so many times there is no response from them. They always send the system generated mails. There is no customer service for this app. Actually customers apply for emergency. They never give any response. Such a time waste application.\", \"Worst experience from this app. I have applied for the loan on Jan 24. Still it is showing as processing as it's already completed 9 days. I have mailed them so many times there is no response from them. They always send the system generated mails. There is no customer service for this app. Actually customers apply for emergency. They never give any response. Such a time waste application.\", 'I have applied for loan and it has been 2 weeks. It has been approved and completed the enach and agreement. But not received the amount. I have raised ticket but no respose. I have mailed multiple times but only once they have replied with the generic response. When following up with it or dropping a fresh mail, there is no response. This is worst experience I have got and now I am not able to login to the app.', \"Worst application ever. They have approved the loan amount twice, firstly on Jan 15 but the loan amount was not disbursed. Yesterday a customer care executive asked to apply again, did that and again the loan is approved but amount has not been credited till now. They don't have a customer care number to contact. If you raise ticket they just have a standard template of higher than expected volume. They will send the same mails again and again. So far the experience has been frustrating.\", 'My loan agreement was signed 2 days ago and during the call before signing the agreement they said they will disburse the loan amount within half an hour after the process. But till today my loan amount was not credited and the status was showing as processing with EMI date and amount both are showing in the app without disburse of loan. Even though I raised multiple tickets they closed them without resolving issue. From today the app was not even opening, it was showing a error code. Be careful', \"I wanted to give the app a good review but they sure do make it difficult. The app literally crashed and shows 404 error for the last 2 days. My loan transfer is being processed since last 2 days also 😂😂😂, this is after they show me the limit and after I repaid my previous loan. It's so annoying that it's funny now 😂😂😂 Edit: Ongoing support ticket number is 22106161\", 'I have applied loan on 25th Feb 2023 and approved on the same day, but still under processing. I have raised 10/15 tickets, and emailed 10times but in response they reply same generic statement, and has no progress at all. And the bad thing is auto debit was signed and emi is already reflecting in the app where as the amount is not yet credited. I have raised ticket and emailed again.', \"Unreliable Pathetic experience and totally unreliable app/service. What use is your credit oine or instant loan approval when you can't credit the funds when actually required? It's been close to 2weeks that my funds are yet not credited. #CSTID 8762838. You claim to be a fintech co. and don't even have complaint redressal at place and as always same standard email answers and closure of service tickets. You guys are modern day thugs.\", \"I have applied for the loan and finished the verification from my side and finished digitally signing the e mandate and everything' uts been 2 weeks and the amount is still not credited into my account ibhave raised 4 tickets so far. Everytime cashe team Changed the reasons why its not getting credited saying its our banking partners fault, our system under upgradation like that\", \"Worst.from last 2 days the status is same . Documents under verification and what your app defines as? Instant cash loan in minutes. It's not minutes it's hours and hours and useless app. I want you to cancel the loan verification and delete all the data that you have stored in your computer\", 'I applied and got approval on 21st February 2024 but the amount hasn\\'t been credited to my bank account yet. I raised a ticket, the reply is \"it takes 4 days to resolve this issue\"....like seriously??? All your claims of sleek and modern and fast disbursal are false. I have been using this app for quite sometime now but the current experience is very bad. I have started receiving payment reminders without any disbursal of my approved loan amount'], 'appId': 'co.tslc.cashe.android', 'url': 'https://play.google.com/store/apps/details?id=co.tslc.cashe.android&hl=en&gl=in'}\n"
          ]
        }
      ]
    },
    {
      "cell_type": "code",
      "source": [
        "from google_play_scraper import Sort, reviews\n",
        "\n",
        "# result, continuation_token = reviews(\n",
        "#     app_id,\n",
        "#     lang='en', # defaults to 'en'\n",
        "#     country='in', # defaults to 'us'\n",
        "#     sort=Sort.MOST_RELEVANT, # defaults to Sort.NEWEST\n",
        "#     count=no_of_reviews, # defaults to 100\n",
        "#     # filter_score_with=5 # defaults to None(means all score)\n",
        "# )\n",
        "\n",
        "# If you pass `continuation_token` as an argument to the reviews function at this point,\n",
        "# it will crawl the items after 3 review items.\n",
        "\n",
        "result, _ = reviews(\n",
        "    app_id,\n",
        "    lang='en',\n",
        "    country='in',\n",
        "    count =no_of_reviews,\n",
        ")\n",
        "print(f'No of Reviews collected is {len(result)}')"
      ],
      "metadata": {
        "colab": {
          "base_uri": "https://localhost:8080/"
        },
        "id": "IlQCldKkLs2f",
        "outputId": "907ce651-b374-4ef3-846e-33a44b34e953"
      },
      "execution_count": null,
      "outputs": [
        {
          "output_type": "stream",
          "name": "stdout",
          "text": [
            "No of Reviews collected is 199\n"
          ]
        }
      ]
    },
    {
      "cell_type": "code",
      "source": [
        "print(result[1])"
      ],
      "metadata": {
        "colab": {
          "base_uri": "https://localhost:8080/"
        },
        "id": "jbAo-H8i4kDJ",
        "outputId": "39c78237-c372-4149-ec16-8555a8eff614"
      },
      "execution_count": null,
      "outputs": [
        {
          "output_type": "stream",
          "name": "stdout",
          "text": [
            "{'reviewId': '4c576073-da57-4f31-aa50-ac0d10055f3d', 'userName': 'Adheer Sharma', 'userImage': 'https://play-lh.googleusercontent.com/a/ACg8ocJ__qopemnky8Vc8-3A0iGrKL1FiFB8UCe7yUy9zRfD=mo', 'content': 'Hard enquiry without permission', 'score': 1, 'thumbsUpCount': 0, 'reviewCreatedVersion': '9.0.5', 'at': datetime.datetime(2024, 3, 5, 8, 37, 12), 'replyContent': None, 'repliedAt': None, 'appVersion': '9.0.5'}\n"
          ]
        }
      ]
    },
    {
      "cell_type": "code",
      "source": [
        "df=pd.DataFrame(result)\n",
        "df.head()"
      ],
      "metadata": {
        "colab": {
          "base_uri": "https://localhost:8080/",
          "height": 487
        },
        "id": "YKNNlPy15pB4",
        "outputId": "64bf3061-255a-4652-d6b1-657119110b92"
      },
      "execution_count": null,
      "outputs": [
        {
          "output_type": "execute_result",
          "data": {
            "text/plain": [
              "                               reviewId         userName  \\\n",
              "0  7b7f8dd3-92b5-4c9e-87fc-25890382b623     Deepak Swami   \n",
              "1  4c576073-da57-4f31-aa50-ac0d10055f3d    Adheer Sharma   \n",
              "2  db1cb77d-676f-4ba9-9aac-ca314136ab46    Miss Kahkasha   \n",
              "3  003146d8-cecd-41e2-9e43-2b86ef6d5aa3      jasbir kaur   \n",
              "4  76a7f71f-7819-43da-9285-4690e7c139d4  Sneha Chaudhari   \n",
              "\n",
              "                                           userImage  \\\n",
              "0  https://play-lh.googleusercontent.com/a-/ALV-U...   \n",
              "1  https://play-lh.googleusercontent.com/a/ACg8oc...   \n",
              "2  https://play-lh.googleusercontent.com/a/ACg8oc...   \n",
              "3  https://play-lh.googleusercontent.com/a-/ALV-U...   \n",
              "4  https://play-lh.googleusercontent.com/a-/ALV-U...   \n",
              "\n",
              "                           content  score  thumbsUpCount reviewCreatedVersion  \\\n",
              "0                          exilent      5              0                9.0.5   \n",
              "1  Hard enquiry without permission      1              0                9.0.5   \n",
              "2                  Badd experience      1              0                9.0.5   \n",
              "3             Your app is not open      4              0                9.0.5   \n",
              "4                             Good      4              0                9.0.5   \n",
              "\n",
              "                   at                                       replyContent  \\\n",
              "0 2024-03-05 08:37:58                                               None   \n",
              "1 2024-03-05 08:37:12                                               None   \n",
              "2 2024-03-05 08:34:57  \\nHi,\\nWe regret the inconvenience you had to ...   \n",
              "3 2024-03-05 08:34:39                                               None   \n",
              "4 2024-03-05 08:32:28  \\nHi,\\nThanking you for choosing CASHe!\\nBest,...   \n",
              "\n",
              "            repliedAt appVersion  \n",
              "0                 NaT      9.0.5  \n",
              "1                 NaT      9.0.5  \n",
              "2 2024-03-06 08:24:44      9.0.5  \n",
              "3                 NaT      9.0.5  \n",
              "4 2024-03-05 15:24:36      9.0.5  "
            ],
            "text/html": [
              "\n",
              "  <div id=\"df-28bc643c-5cf8-468b-a656-c1339aa853d5\" class=\"colab-df-container\">\n",
              "    <div>\n",
              "<style scoped>\n",
              "    .dataframe tbody tr th:only-of-type {\n",
              "        vertical-align: middle;\n",
              "    }\n",
              "\n",
              "    .dataframe tbody tr th {\n",
              "        vertical-align: top;\n",
              "    }\n",
              "\n",
              "    .dataframe thead th {\n",
              "        text-align: right;\n",
              "    }\n",
              "</style>\n",
              "<table border=\"1\" class=\"dataframe\">\n",
              "  <thead>\n",
              "    <tr style=\"text-align: right;\">\n",
              "      <th></th>\n",
              "      <th>reviewId</th>\n",
              "      <th>userName</th>\n",
              "      <th>userImage</th>\n",
              "      <th>content</th>\n",
              "      <th>score</th>\n",
              "      <th>thumbsUpCount</th>\n",
              "      <th>reviewCreatedVersion</th>\n",
              "      <th>at</th>\n",
              "      <th>replyContent</th>\n",
              "      <th>repliedAt</th>\n",
              "      <th>appVersion</th>\n",
              "    </tr>\n",
              "  </thead>\n",
              "  <tbody>\n",
              "    <tr>\n",
              "      <th>0</th>\n",
              "      <td>7b7f8dd3-92b5-4c9e-87fc-25890382b623</td>\n",
              "      <td>Deepak Swami</td>\n",
              "      <td>https://play-lh.googleusercontent.com/a-/ALV-U...</td>\n",
              "      <td>exilent</td>\n",
              "      <td>5</td>\n",
              "      <td>0</td>\n",
              "      <td>9.0.5</td>\n",
              "      <td>2024-03-05 08:37:58</td>\n",
              "      <td>None</td>\n",
              "      <td>NaT</td>\n",
              "      <td>9.0.5</td>\n",
              "    </tr>\n",
              "    <tr>\n",
              "      <th>1</th>\n",
              "      <td>4c576073-da57-4f31-aa50-ac0d10055f3d</td>\n",
              "      <td>Adheer Sharma</td>\n",
              "      <td>https://play-lh.googleusercontent.com/a/ACg8oc...</td>\n",
              "      <td>Hard enquiry without permission</td>\n",
              "      <td>1</td>\n",
              "      <td>0</td>\n",
              "      <td>9.0.5</td>\n",
              "      <td>2024-03-05 08:37:12</td>\n",
              "      <td>None</td>\n",
              "      <td>NaT</td>\n",
              "      <td>9.0.5</td>\n",
              "    </tr>\n",
              "    <tr>\n",
              "      <th>2</th>\n",
              "      <td>db1cb77d-676f-4ba9-9aac-ca314136ab46</td>\n",
              "      <td>Miss Kahkasha</td>\n",
              "      <td>https://play-lh.googleusercontent.com/a/ACg8oc...</td>\n",
              "      <td>Badd experience</td>\n",
              "      <td>1</td>\n",
              "      <td>0</td>\n",
              "      <td>9.0.5</td>\n",
              "      <td>2024-03-05 08:34:57</td>\n",
              "      <td>\\nHi,\\nWe regret the inconvenience you had to ...</td>\n",
              "      <td>2024-03-06 08:24:44</td>\n",
              "      <td>9.0.5</td>\n",
              "    </tr>\n",
              "    <tr>\n",
              "      <th>3</th>\n",
              "      <td>003146d8-cecd-41e2-9e43-2b86ef6d5aa3</td>\n",
              "      <td>jasbir kaur</td>\n",
              "      <td>https://play-lh.googleusercontent.com/a-/ALV-U...</td>\n",
              "      <td>Your app is not open</td>\n",
              "      <td>4</td>\n",
              "      <td>0</td>\n",
              "      <td>9.0.5</td>\n",
              "      <td>2024-03-05 08:34:39</td>\n",
              "      <td>None</td>\n",
              "      <td>NaT</td>\n",
              "      <td>9.0.5</td>\n",
              "    </tr>\n",
              "    <tr>\n",
              "      <th>4</th>\n",
              "      <td>76a7f71f-7819-43da-9285-4690e7c139d4</td>\n",
              "      <td>Sneha Chaudhari</td>\n",
              "      <td>https://play-lh.googleusercontent.com/a-/ALV-U...</td>\n",
              "      <td>Good</td>\n",
              "      <td>4</td>\n",
              "      <td>0</td>\n",
              "      <td>9.0.5</td>\n",
              "      <td>2024-03-05 08:32:28</td>\n",
              "      <td>\\nHi,\\nThanking you for choosing CASHe!\\nBest,...</td>\n",
              "      <td>2024-03-05 15:24:36</td>\n",
              "      <td>9.0.5</td>\n",
              "    </tr>\n",
              "  </tbody>\n",
              "</table>\n",
              "</div>\n",
              "    <div class=\"colab-df-buttons\">\n",
              "\n",
              "  <div class=\"colab-df-container\">\n",
              "    <button class=\"colab-df-convert\" onclick=\"convertToInteractive('df-28bc643c-5cf8-468b-a656-c1339aa853d5')\"\n",
              "            title=\"Convert this dataframe to an interactive table.\"\n",
              "            style=\"display:none;\">\n",
              "\n",
              "  <svg xmlns=\"http://www.w3.org/2000/svg\" height=\"24px\" viewBox=\"0 -960 960 960\">\n",
              "    <path d=\"M120-120v-720h720v720H120Zm60-500h600v-160H180v160Zm220 220h160v-160H400v160Zm0 220h160v-160H400v160ZM180-400h160v-160H180v160Zm440 0h160v-160H620v160ZM180-180h160v-160H180v160Zm440 0h160v-160H620v160Z\"/>\n",
              "  </svg>\n",
              "    </button>\n",
              "\n",
              "  <style>\n",
              "    .colab-df-container {\n",
              "      display:flex;\n",
              "      gap: 12px;\n",
              "    }\n",
              "\n",
              "    .colab-df-convert {\n",
              "      background-color: #E8F0FE;\n",
              "      border: none;\n",
              "      border-radius: 50%;\n",
              "      cursor: pointer;\n",
              "      display: none;\n",
              "      fill: #1967D2;\n",
              "      height: 32px;\n",
              "      padding: 0 0 0 0;\n",
              "      width: 32px;\n",
              "    }\n",
              "\n",
              "    .colab-df-convert:hover {\n",
              "      background-color: #E2EBFA;\n",
              "      box-shadow: 0px 1px 2px rgba(60, 64, 67, 0.3), 0px 1px 3px 1px rgba(60, 64, 67, 0.15);\n",
              "      fill: #174EA6;\n",
              "    }\n",
              "\n",
              "    .colab-df-buttons div {\n",
              "      margin-bottom: 4px;\n",
              "    }\n",
              "\n",
              "    [theme=dark] .colab-df-convert {\n",
              "      background-color: #3B4455;\n",
              "      fill: #D2E3FC;\n",
              "    }\n",
              "\n",
              "    [theme=dark] .colab-df-convert:hover {\n",
              "      background-color: #434B5C;\n",
              "      box-shadow: 0px 1px 3px 1px rgba(0, 0, 0, 0.15);\n",
              "      filter: drop-shadow(0px 1px 2px rgba(0, 0, 0, 0.3));\n",
              "      fill: #FFFFFF;\n",
              "    }\n",
              "  </style>\n",
              "\n",
              "    <script>\n",
              "      const buttonEl =\n",
              "        document.querySelector('#df-28bc643c-5cf8-468b-a656-c1339aa853d5 button.colab-df-convert');\n",
              "      buttonEl.style.display =\n",
              "        google.colab.kernel.accessAllowed ? 'block' : 'none';\n",
              "\n",
              "      async function convertToInteractive(key) {\n",
              "        const element = document.querySelector('#df-28bc643c-5cf8-468b-a656-c1339aa853d5');\n",
              "        const dataTable =\n",
              "          await google.colab.kernel.invokeFunction('convertToInteractive',\n",
              "                                                    [key], {});\n",
              "        if (!dataTable) return;\n",
              "\n",
              "        const docLinkHtml = 'Like what you see? Visit the ' +\n",
              "          '<a target=\"_blank\" href=https://colab.research.google.com/notebooks/data_table.ipynb>data table notebook</a>'\n",
              "          + ' to learn more about interactive tables.';\n",
              "        element.innerHTML = '';\n",
              "        dataTable['output_type'] = 'display_data';\n",
              "        await google.colab.output.renderOutput(dataTable, element);\n",
              "        const docLink = document.createElement('div');\n",
              "        docLink.innerHTML = docLinkHtml;\n",
              "        element.appendChild(docLink);\n",
              "      }\n",
              "    </script>\n",
              "  </div>\n",
              "\n",
              "\n",
              "<div id=\"df-6bc04774-5bad-4885-8874-c6905f1d1fb9\">\n",
              "  <button class=\"colab-df-quickchart\" onclick=\"quickchart('df-6bc04774-5bad-4885-8874-c6905f1d1fb9')\"\n",
              "            title=\"Suggest charts\"\n",
              "            style=\"display:none;\">\n",
              "\n",
              "<svg xmlns=\"http://www.w3.org/2000/svg\" height=\"24px\"viewBox=\"0 0 24 24\"\n",
              "     width=\"24px\">\n",
              "    <g>\n",
              "        <path d=\"M19 3H5c-1.1 0-2 .9-2 2v14c0 1.1.9 2 2 2h14c1.1 0 2-.9 2-2V5c0-1.1-.9-2-2-2zM9 17H7v-7h2v7zm4 0h-2V7h2v10zm4 0h-2v-4h2v4z\"/>\n",
              "    </g>\n",
              "</svg>\n",
              "  </button>\n",
              "\n",
              "<style>\n",
              "  .colab-df-quickchart {\n",
              "      --bg-color: #E8F0FE;\n",
              "      --fill-color: #1967D2;\n",
              "      --hover-bg-color: #E2EBFA;\n",
              "      --hover-fill-color: #174EA6;\n",
              "      --disabled-fill-color: #AAA;\n",
              "      --disabled-bg-color: #DDD;\n",
              "  }\n",
              "\n",
              "  [theme=dark] .colab-df-quickchart {\n",
              "      --bg-color: #3B4455;\n",
              "      --fill-color: #D2E3FC;\n",
              "      --hover-bg-color: #434B5C;\n",
              "      --hover-fill-color: #FFFFFF;\n",
              "      --disabled-bg-color: #3B4455;\n",
              "      --disabled-fill-color: #666;\n",
              "  }\n",
              "\n",
              "  .colab-df-quickchart {\n",
              "    background-color: var(--bg-color);\n",
              "    border: none;\n",
              "    border-radius: 50%;\n",
              "    cursor: pointer;\n",
              "    display: none;\n",
              "    fill: var(--fill-color);\n",
              "    height: 32px;\n",
              "    padding: 0;\n",
              "    width: 32px;\n",
              "  }\n",
              "\n",
              "  .colab-df-quickchart:hover {\n",
              "    background-color: var(--hover-bg-color);\n",
              "    box-shadow: 0 1px 2px rgba(60, 64, 67, 0.3), 0 1px 3px 1px rgba(60, 64, 67, 0.15);\n",
              "    fill: var(--button-hover-fill-color);\n",
              "  }\n",
              "\n",
              "  .colab-df-quickchart-complete:disabled,\n",
              "  .colab-df-quickchart-complete:disabled:hover {\n",
              "    background-color: var(--disabled-bg-color);\n",
              "    fill: var(--disabled-fill-color);\n",
              "    box-shadow: none;\n",
              "  }\n",
              "\n",
              "  .colab-df-spinner {\n",
              "    border: 2px solid var(--fill-color);\n",
              "    border-color: transparent;\n",
              "    border-bottom-color: var(--fill-color);\n",
              "    animation:\n",
              "      spin 1s steps(1) infinite;\n",
              "  }\n",
              "\n",
              "  @keyframes spin {\n",
              "    0% {\n",
              "      border-color: transparent;\n",
              "      border-bottom-color: var(--fill-color);\n",
              "      border-left-color: var(--fill-color);\n",
              "    }\n",
              "    20% {\n",
              "      border-color: transparent;\n",
              "      border-left-color: var(--fill-color);\n",
              "      border-top-color: var(--fill-color);\n",
              "    }\n",
              "    30% {\n",
              "      border-color: transparent;\n",
              "      border-left-color: var(--fill-color);\n",
              "      border-top-color: var(--fill-color);\n",
              "      border-right-color: var(--fill-color);\n",
              "    }\n",
              "    40% {\n",
              "      border-color: transparent;\n",
              "      border-right-color: var(--fill-color);\n",
              "      border-top-color: var(--fill-color);\n",
              "    }\n",
              "    60% {\n",
              "      border-color: transparent;\n",
              "      border-right-color: var(--fill-color);\n",
              "    }\n",
              "    80% {\n",
              "      border-color: transparent;\n",
              "      border-right-color: var(--fill-color);\n",
              "      border-bottom-color: var(--fill-color);\n",
              "    }\n",
              "    90% {\n",
              "      border-color: transparent;\n",
              "      border-bottom-color: var(--fill-color);\n",
              "    }\n",
              "  }\n",
              "</style>\n",
              "\n",
              "  <script>\n",
              "    async function quickchart(key) {\n",
              "      const quickchartButtonEl =\n",
              "        document.querySelector('#' + key + ' button');\n",
              "      quickchartButtonEl.disabled = true;  // To prevent multiple clicks.\n",
              "      quickchartButtonEl.classList.add('colab-df-spinner');\n",
              "      try {\n",
              "        const charts = await google.colab.kernel.invokeFunction(\n",
              "            'suggestCharts', [key], {});\n",
              "      } catch (error) {\n",
              "        console.error('Error during call to suggestCharts:', error);\n",
              "      }\n",
              "      quickchartButtonEl.classList.remove('colab-df-spinner');\n",
              "      quickchartButtonEl.classList.add('colab-df-quickchart-complete');\n",
              "    }\n",
              "    (() => {\n",
              "      let quickchartButtonEl =\n",
              "        document.querySelector('#df-6bc04774-5bad-4885-8874-c6905f1d1fb9 button');\n",
              "      quickchartButtonEl.style.display =\n",
              "        google.colab.kernel.accessAllowed ? 'block' : 'none';\n",
              "    })();\n",
              "  </script>\n",
              "</div>\n",
              "    </div>\n",
              "  </div>\n"
            ],
            "application/vnd.google.colaboratory.intrinsic+json": {
              "type": "dataframe",
              "variable_name": "df",
              "summary": "{\n  \"name\": \"df\",\n  \"rows\": 199,\n  \"fields\": [\n    {\n      \"column\": \"reviewId\",\n      \"properties\": {\n        \"dtype\": \"string\",\n        \"num_unique_values\": 199,\n        \"samples\": [\n          \"a416fbea-c8a5-43bc-927d-a823d9335de6\",\n          \"fef43e68-d948-481f-94f8-064dbf227c09\",\n          \"10093fa2-e48a-40dd-bbc8-6ce84859c6a6\"\n        ],\n        \"semantic_type\": \"\",\n        \"description\": \"\"\n      }\n    },\n    {\n      \"column\": \"userName\",\n      \"properties\": {\n        \"dtype\": \"string\",\n        \"num_unique_values\": 198,\n        \"samples\": [\n          \"Dibin Das\",\n          \"Debu Panja\",\n          \"sanjay yadav\"\n        ],\n        \"semantic_type\": \"\",\n        \"description\": \"\"\n      }\n    },\n    {\n      \"column\": \"userImage\",\n      \"properties\": {\n        \"dtype\": \"string\",\n        \"num_unique_values\": 199,\n        \"samples\": [\n          \"https://play-lh.googleusercontent.com/a-/ALV-UjXmgXIuVofO1-EJlix_-kLH62q7JieGUS8QdrLdctT57A\",\n          \"https://play-lh.googleusercontent.com/a-/ALV-UjVtRUZEI1T12YFEQNDcdc1kjL1G5g6Aj8TCRJDnDVx6TPEU\",\n          \"https://play-lh.googleusercontent.com/a-/ALV-UjUYpiJaznkHRGo9tqsuhtfiOebU41E_ta7SKvezeucIUMrN\"\n        ],\n        \"semantic_type\": \"\",\n        \"description\": \"\"\n      }\n    },\n    {\n      \"column\": \"content\",\n      \"properties\": {\n        \"dtype\": \"string\",\n        \"num_unique_values\": 183,\n        \"samples\": [\n          \"nice service and interest\",\n          \"Waste of time ..I applied loan still showing processing...no one responded properly.....\",\n          \"Very Bad experience ever...... Don't waste your time.\"\n        ],\n        \"semantic_type\": \"\",\n        \"description\": \"\"\n      }\n    },\n    {\n      \"column\": \"score\",\n      \"properties\": {\n        \"dtype\": \"number\",\n        \"std\": 1,\n        \"min\": 1,\n        \"max\": 5,\n        \"num_unique_values\": 5,\n        \"samples\": [\n          1,\n          3,\n          4\n        ],\n        \"semantic_type\": \"\",\n        \"description\": \"\"\n      }\n    },\n    {\n      \"column\": \"thumbsUpCount\",\n      \"properties\": {\n        \"dtype\": \"number\",\n        \"std\": 1,\n        \"min\": 0,\n        \"max\": 9,\n        \"num_unique_values\": 7,\n        \"samples\": [\n          0,\n          2,\n          9\n        ],\n        \"semantic_type\": \"\",\n        \"description\": \"\"\n      }\n    },\n    {\n      \"column\": \"reviewCreatedVersion\",\n      \"properties\": {\n        \"dtype\": \"category\",\n        \"num_unique_values\": 2,\n        \"samples\": [\n          \"8.9.1\",\n          \"9.0.5\"\n        ],\n        \"semantic_type\": \"\",\n        \"description\": \"\"\n      }\n    },\n    {\n      \"column\": \"at\",\n      \"properties\": {\n        \"dtype\": \"date\",\n        \"min\": \"2024-03-04 13:08:52\",\n        \"max\": \"2024-03-05 08:37:58\",\n        \"num_unique_values\": 199,\n        \"samples\": [\n          \"2024-03-05 04:52:01\",\n          \"2024-03-05 08:18:55\"\n        ],\n        \"semantic_type\": \"\",\n        \"description\": \"\"\n      }\n    },\n    {\n      \"column\": \"replyContent\",\n      \"properties\": {\n        \"dtype\": \"category\",\n        \"num_unique_values\": 22,\n        \"samples\": [\n          \"\\nHi,\\nWe regret the inconvenience you had to face. Please share your CLN or registered email id/contact number with us. We will be happy to assist you.\\nBest,\\nCASHe Team\\n\\n\\n\\n\\n\\n\\n\",\n          \"\\nHi,\\nWe regret the inconvenience you had to face. Please share your CLN or registered email id/contact number with us. We will be happy to assist you.\\nBest,\\nCASHe Team\\n\\n\\n\\n>\"\n        ],\n        \"semantic_type\": \"\",\n        \"description\": \"\"\n      }\n    },\n    {\n      \"column\": \"repliedAt\",\n      \"properties\": {\n        \"dtype\": \"date\",\n        \"min\": \"2019-01-23 04:40:15\",\n        \"max\": \"2024-03-06 08:24:44\",\n        \"num_unique_values\": 34,\n        \"samples\": [\n          \"2024-02-24 21:42:45\",\n          \"2024-02-08 16:18:20\"\n        ],\n        \"semantic_type\": \"\",\n        \"description\": \"\"\n      }\n    },\n    {\n      \"column\": \"appVersion\",\n      \"properties\": {\n        \"dtype\": \"category\",\n        \"num_unique_values\": 2,\n        \"samples\": [\n          \"8.9.1\",\n          \"9.0.5\"\n        ],\n        \"semantic_type\": \"\",\n        \"description\": \"\"\n      }\n    }\n  ]\n}"
            }
          },
          "metadata": {},
          "execution_count": 13
        }
      ]
    },
    {
      "cell_type": "code",
      "source": [
        "from google.colab import drive,files\n",
        "import os\n",
        "is_drive=int(input('Input 1 -> Save in Drive, 2-> Download File directly  '))\n",
        "path=''\n",
        "if is_drive==1:\n",
        "  drive.mount('/content/drive')\n",
        "  directory_path=\"/content/drive/My Drive/Playstore_Scraper/\"\n",
        "  if not os.path.exists(directory_path):\n",
        "      os.makedirs(directory_path)\n",
        "  path = f\"/content/drive/My Drive/Playstore_Scraper/{app_description['title']}.xlsx\"\n",
        "  print('Open Your Drive, My Drive -> Playstore Scraper -> Excel File with Reviews')\n",
        "else:\n",
        "  path=f\"{app_description['title']}.xlsx\"\n",
        "df.to_excel(path,index=False)\n",
        "if is_drive==2:\n",
        "  files.download(path)\n"
      ],
      "metadata": {
        "colab": {
          "base_uri": "https://localhost:8080/"
        },
        "id": "b_8wUWnQ6bH9",
        "outputId": "bac57742-2baf-4cd1-f913-a397315fe060"
      },
      "execution_count": null,
      "outputs": [
        {
          "output_type": "stream",
          "name": "stdout",
          "text": [
            "Input 1 -> Save in Drive, 2-> Download File directly  1\n",
            "Drive already mounted at /content/drive; to attempt to forcibly remount, call drive.mount(\"/content/drive\", force_remount=True).\n",
            "Open Your Drive, My Drive -> Playstore Scraper -> Excel File with Reviews\n"
          ]
        }
      ]
    }
  ]
}